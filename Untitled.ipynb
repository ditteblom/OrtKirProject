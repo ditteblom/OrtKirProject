{
 "cells": [
  {
   "cell_type": "code",
   "execution_count": 1,
   "id": "dded9b37",
   "metadata": {},
   "outputs": [],
   "source": [
    "# preamble\n",
    "import glob\n",
    "import os\n",
    "import matplotlib.pyplot as plt\n",
    "from PIL import Image\n",
    "import cv2\n",
    "import numpy as np\n",
    "import pandas as pd\n",
    "import torch\n",
    "\n",
    "class SimulationData(torch.utils.data.Dataset):\n",
    "    def __init__(self, repair_type, data_path = \"Data\", type = None):\n",
    "        'Initializing data'\n",
    "        self.data_path = data_path\n",
    "        self.repair_type = repair_type\n",
    "        self.type = type\n",
    "\n",
    "        img_files = glob.glob(self.data_path + '***/**/*.jpg', recursive=True)\n",
    "        img_files = [ x for x in img_files if self.repair_type in x ]\n",
    "        score_files = glob.glob(self.data_path + '***/**/*.txt', recursive=True)\n",
    "        score_files = [ x for x in score_files if self.repair_type in x ]\n",
    "        #images = []\n",
    "        scores = []\n",
    "\n",
    "        #for file in img_files:\n",
    "        #    temp_img = cv2.imread(file, cv2.COLOR_BGR2GRAY)\n",
    "        #    images.append(temp_img)\n",
    "                \n",
    "        for file in score_files:\n",
    "            with open(file) as f:\n",
    "                lines = f.read()\n",
    "            idx_score = lines.find('Score')\n",
    "            score = float(lines[idx_score-13:idx_score-4])\n",
    "            idx_maxscore = lines.find('Max score')\n",
    "            maxscore = float(lines[idx_maxscore-13:idx_maxscore-4])\n",
    "            scores.append(score/maxscore)\n",
    "\n",
    "        # create dataframe with filenames for images\n",
    "        df_img = pd.DataFrame(img_files, columns = [\"image_path\"])\n",
    "        #df_img[\"image\"] = images\n",
    "        df_img[\"no\"] = df_img.image_path.apply(lambda x: x[-19:-4]) # get the unique ending of the filename\n",
    "\n",
    "        # create dataframe with scores\n",
    "        df_scores = pd.DataFrame(score_files, columns = [\"no\"])\n",
    "        df_scores[\"score\"] = scores\n",
    "        df_scores.no = df_scores.no.apply(lambda x: x[-19:-4])\n",
    "\n",
    "        # merge the two dataframes\n",
    "        self.df = df_img.merge(df_scores, how = 'left', on = 'no')\n",
    "        self.df = self.df[self.df.image_path.str.contains('|'.join([\"admin\",\"guest\",\"resultTableImage\"]))==False]\\\n",
    "                .loc[~(self.df.score==0)] # remove all admin and guest files and the images of the results. Remove all black\n",
    "                                    # black images which have a score of 0\n",
    "        if self.type is not None:\n",
    "            self.df = self.df[self.df.image_path.str.contains('|'.join([type]))==False]\n",
    "        self.df.reset_index(drop=True, inplace = True)\n",
    "        \n",
    "        return self.df\n",
    "\n",
    "    def __noSamples__(self):\n",
    "        'Returns the number of samples'\n",
    "        return self.df.shape[0]\n"
   ]
  },
  {
   "cell_type": "code",
   "execution_count": null,
   "id": "c7e2c3f8",
   "metadata": {},
   "outputs": [],
   "source": [
    "repair_type = \"001_hansson_pin_system\"\n",
    "data = CreateData(\"Data\", repair_type)\n",
    "print(data)"
   ]
  },
  {
   "cell_type": "code",
   "execution_count": null,
   "id": "823d7de1",
   "metadata": {},
   "outputs": [],
   "source": []
  }
 ],
 "metadata": {
  "kernelspec": {
   "display_name": "Python 3 (ipykernel)",
   "language": "python",
   "name": "python3"
  },
  "language_info": {
   "codemirror_mode": {
    "name": "ipython",
    "version": 3
   },
   "file_extension": ".py",
   "mimetype": "text/x-python",
   "name": "python",
   "nbconvert_exporter": "python",
   "pygments_lexer": "ipython3",
   "version": "3.8.11"
  }
 },
 "nbformat": 4,
 "nbformat_minor": 5
}
