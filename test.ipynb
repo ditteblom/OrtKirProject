{
 "cells": [
  {
   "cell_type": "code",
   "execution_count": null,
   "metadata": {},
   "outputs": [],
   "source": [
    "import numpy as np\n",
    "from dataloader import SimulationData\n",
    "import torchvision.transforms as transforms\n",
    "import matplotlib.pyplot as plt\n",
    "import cv2\n",
    "\n",
    "size = 250\n",
    "\n",
    "train_transform = transforms.Compose([transforms.ToTensor(),\n",
    "                                #transforms.Resize((size,size)),\n",
    "                                #transforms.CenterCrop((1200,1000))\n",
    "                                ])\n",
    "val_transform = transforms.Compose([transforms.ToTensor(),\n",
    "                                transforms.Resize((size,size)),\n",
    "                                #transforms.Grayscale(num_output_channels = 1),\n",
    "                                ])\n",
    "\n",
    "repair_type = '001_hansson_pin_system'\n",
    "data_dir = '/work3/dgro/Data/'\n",
    "batch_size = 16\n",
    "\n",
    "dataset = SimulationData(repair_type = repair_type, split = 'train', data_path = data_dir, transform = train_transform)"
   ]
  },
  {
   "cell_type": "code",
   "execution_count": null,
   "metadata": {},
   "outputs": [],
   "source": [
    "idx = 10\n",
    "\n",
    "images, scores = dataset.__getitem__(idx)\n",
    "\n",
    "im_frontal = images.permute(1, 2, 3, 0)[0]\n",
    "im_lateral= images.permute(1, 2, 3, 0)[1]\n",
    "\n",
    "gray0 = cv2.cvtColor(im_frontal, cv2.COLOR_BGR2GRAY)\n",
    "\n",
    "plt.imshow(im_frontal)\n",
    "print(im_frontal.shape)"
   ]
  },
  {
   "cell_type": "code",
   "execution_count": null,
   "metadata": {},
   "outputs": [],
   "source": [
    "im_frontal_plain = cv2.imread('/work3/dgro/frontal.jpg') \n",
    "gray1 = cv2.cvtColor(im_frontal_plain, cv2.COLOR_BGR2GRAY)\n",
    "plt.imshow(gray1)\n",
    "print(gray1.shape)"
   ]
  },
  {
   "cell_type": "code",
   "execution_count": null,
   "metadata": {},
   "outputs": [],
   "source": [
    "#keypoints\n",
    "sift = cv2.xfeatures2d.SIFT_create()\n",
    "keypoints_1, descriptors_1 = sift.detectAndCompute(im_frontal_plain,None)\n",
    "\n",
    "img_1 = cv2.drawKeypoints(gray1,keypoints_1,im_frontal_plain)\n",
    "plt.imshow(img_1)"
   ]
  }
 ],
 "metadata": {
  "interpreter": {
   "hash": "bcaefb7c0c953398144054267a40ef8e81f0ca60e1e7761f97f9cd1b8618e536"
  },
  "kernelspec": {
   "display_name": "Python 3.9.7 64-bit ('py39': conda)",
   "language": "python",
   "name": "python3"
  },
  "language_info": {
   "codemirror_mode": {
    "name": "ipython",
    "version": 3
   },
   "file_extension": ".py",
   "mimetype": "text/x-python",
   "name": "python",
   "nbconvert_exporter": "python",
   "pygments_lexer": "ipython3",
   "version": "3.9.7"
  },
  "orig_nbformat": 4
 },
 "nbformat": 4,
 "nbformat_minor": 2
}
